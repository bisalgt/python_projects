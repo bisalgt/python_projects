{
 "cells": [
  {
   "cell_type": "code",
   "execution_count": 1,
   "metadata": {},
   "outputs": [
    {
     "name": "stdout",
     "output_type": "stream",
     "text": [
      "X X X X X "
     ]
    }
   ],
   "source": [
    "for i in range(5):\n",
    "    print('X', end=' ')"
   ]
  },
  {
   "cell_type": "code",
   "execution_count": 1,
   "metadata": {},
   "outputs": [
    {
     "name": "stdout",
     "output_type": "stream",
     "text": [
      "X X X X X "
     ]
    }
   ],
   "source": [
    "for i in range(5):\n",
    "    print('X', end=' ')"
   ]
  },
  {
   "cell_type": "code",
   "execution_count": 9,
   "metadata": {},
   "outputs": [
    {
     "name": "stdout",
     "output_type": "stream",
     "text": [
      "            \n",
      "          X \n",
      "        X X \n",
      "      X X X \n",
      "    X X X X \n",
      "  X X X X X \n"
     ]
    }
   ],
   "source": [
    "x = 6\n",
    "for i in range(6):\n",
    "    for j in range(6-i):\n",
    "        print(' ', end=' ')\n",
    "    for k in range(i):\n",
    "        print('X', end=' ')\n",
    "    print()"
   ]
  },
  {
   "cell_type": "code",
   "execution_count": 10,
   "metadata": {},
   "outputs": [
    {
     "name": "stdout",
     "output_type": "stream",
     "text": [
      "            \n",
      "X           \n",
      "X X         \n",
      "X X X       \n",
      "X X X X     \n",
      "X X X X X   \n"
     ]
    }
   ],
   "source": [
    "x = 6\n",
    "for i in range(6):\n",
    "    for k in range(i):\n",
    "        print('X', end=' ')\n",
    "    for j in range(6-i):\n",
    "        print(' ', end=' ')\n",
    "    \n",
    "    print()"
   ]
  },
  {
   "cell_type": "code",
   "execution_count": 41,
   "metadata": {},
   "outputs": [
    {
     "name": "stdout",
     "output_type": "stream",
     "text": [
      "                        \n",
      "          X           \n",
      "        X X X         \n",
      "      X X X X X       \n",
      "    X X X X X X X     \n",
      "  X X X X X X X X X   \n",
      "  |      | |      | \n",
      "  |      | |      | \n",
      "  |      | |      | \n",
      "  |      | |      | \n",
      "  |      | |      | \n",
      "m m m m m m m m m m m "
     ]
    }
   ],
   "source": [
    "x = 6\n",
    "for i in range(6):\n",
    "    for a in range(6-i):\n",
    "        print(' ', end= ' ')\n",
    "    for b in range(i):\n",
    "        print('X', end=' ')\n",
    "    for k in range(i-1):\n",
    "        print('X', end=' ')\n",
    "    for j in range(6-i):\n",
    "        print(' ', end=' ')\n",
    "    print()\n",
    "for i in range(5):\n",
    "    print(' ', end=' ')\n",
    "    for j in range(3):\n",
    "        if (j==0):\n",
    "            print('|', end=' ')\n",
    "        else:\n",
    "            print(' ', end=' ')\n",
    "    print(' ', end = '| |')\n",
    "    for k in range(4):\n",
    "        if (k==3):\n",
    "            print('|', end=' ')\n",
    "        else:\n",
    "            print(' ', end=' ')\n",
    "    \n",
    "    print()\n",
    "for i in range(11):\n",
    "    print('m', end=' ')\n",
    "    "
   ]
  },
  {
   "cell_type": "code",
   "execution_count": 47,
   "metadata": {},
   "outputs": [
    {
     "name": "stdout",
     "output_type": "stream",
     "text": [
      "                        \n",
      "          X           \n",
      "        X X X         \n",
      "      X X X X X       \n",
      "    X X X X X X X     \n",
      "  X X X X X X X X X   \n",
      "  |      | |      | \n",
      "  O      | |      O \n",
      "         | |        \n",
      "m m m m m m m m m m m "
     ]
    }
   ],
   "source": [
    "x = 6\n",
    "for i in range(6):\n",
    "    for a in range(6-i):\n",
    "        print(' ', end= ' ')\n",
    "    for b in range(i):\n",
    "        print('X', end=' ')\n",
    "    for k in range(i-1):\n",
    "        print('X', end=' ')\n",
    "    for j in range(6-i):\n",
    "        print(' ', end=' ')\n",
    "    print()\n",
    "for i in range(3):\n",
    "    if i==0:\n",
    "        print(' ', end=' ')\n",
    "        for j in range(3):\n",
    "            if (j==0):\n",
    "                print('|', end=' ')\n",
    "            else:\n",
    "                print(' ', end=' ')\n",
    "        print(' ', end = '| |')\n",
    "        for k in range(4):\n",
    "            if (k==3):\n",
    "                print('|', end=' ')\n",
    "            else:\n",
    "                print(' ', end=' ')\n",
    "    elif(i==1):\n",
    "        print(' ', end=' ')\n",
    "        for j in range(3):\n",
    "            if (j==0):\n",
    "                print('O', end=' ')\n",
    "            else:\n",
    "                print(' ', end=' ')\n",
    "        print(' ', end = '| |')\n",
    "        for k in range(4):\n",
    "            if (k==3):\n",
    "                print('O', end=' ')\n",
    "            else:\n",
    "                print(' ', end=' ')\n",
    "\n",
    "    else:\n",
    "        print(' ', end=' ')\n",
    "        for j in range(3):\n",
    "            if (j==0):\n",
    "                print(' ', end=' ')\n",
    "            else:\n",
    "                print(' ', end=' ')\n",
    "        print(' ', end = '| |')\n",
    "        for k in range(4):\n",
    "            if (k==3):\n",
    "                print(' ', end=' ')\n",
    "            else:\n",
    "                print(' ', end=' ')\n",
    "\n",
    "    \n",
    "    \n",
    "    print()\n",
    "for i in range(11):\n",
    "    print('m', end=' ')\n",
    "    "
   ]
  },
  {
   "cell_type": "code",
   "execution_count": 78,
   "metadata": {},
   "outputs": [
    {
     "name": "stdout",
     "output_type": "stream",
     "text": [
      "4 4 4 4 4 4 4 \n",
      "4 3 3 3 3 3 4 \n",
      "4 3 2 2 2 3 4 \n",
      "4 3 2 1 2 3 4 \n",
      "4 3 2 2 2 3 4 \n",
      "4 3 3 3 3 3 4 \n",
      "4 4 4 4 4 4 4 \n"
     ]
    }
   ],
   "source": [
    "for i in range(7):\n",
    "    for j in range(7):\n",
    "        if not(i == 0 or i == 6):\n",
    "            if j == 0 or j == 6:\n",
    "                print(4, end=' ')\n",
    "            else:\n",
    "                if i==2  or i==3 or i==4:\n",
    "                        if j==1 or j==5:\n",
    "                            print(3, end= ' ')\n",
    "                        else:\n",
    "                            if i==3:\n",
    "                                if j==2 or j==4:\n",
    "                                    print(2, end=' ')\n",
    "                                else:\n",
    "                                    print(1, end=' ')\n",
    "                            else:\n",
    "                                print('2', end= ' ')\n",
    "                else:\n",
    "                    print(3, end= ' ')\n",
    "        else:\n",
    "            print(4, end= ' ')\n",
    "    print()"
   ]
  },
  {
   "cell_type": "code",
   "execution_count": null,
   "metadata": {},
   "outputs": [],
   "source": []
  },
  {
   "cell_type": "code",
   "execution_count": null,
   "metadata": {},
   "outputs": [],
   "source": []
  },
  {
   "cell_type": "code",
   "execution_count": null,
   "metadata": {},
   "outputs": [],
   "source": []
  },
  {
   "cell_type": "code",
   "execution_count": null,
   "metadata": {},
   "outputs": [],
   "source": []
  }
 ],
 "metadata": {
  "kernelspec": {
   "display_name": "Python 3",
   "language": "python",
   "name": "python3"
  },
  "language_info": {
   "codemirror_mode": {
    "name": "ipython",
    "version": 3
   },
   "file_extension": ".py",
   "mimetype": "text/x-python",
   "name": "python",
   "nbconvert_exporter": "python",
   "pygments_lexer": "ipython3",
   "version": "3.7.4"
  }
 },
 "nbformat": 4,
 "nbformat_minor": 2
}
