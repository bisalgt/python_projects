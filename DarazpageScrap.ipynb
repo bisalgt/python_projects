{
 "cells": [
  {
   "cell_type": "code",
   "execution_count": 2,
   "metadata": {},
   "outputs": [],
   "source": [
    "import csv\n",
    "import requests\n",
    "from bs4 import BeautifulSoup\n",
    "import json\n",
    "source = requests.get('https://www.daraz.com.np/laptops/?page=1').content\n",
    "\n",
    "soup = BeautifulSoup(source)\n",
    "\n",
    "contents = soup.find_all('script', attrs = {'type':'application/ld+json'})\n",
    "\n",
    "content = contents[1].text\n",
    "\n",
    "python_obj = json.loads(content)\n",
    "\n",
    "laptop_list = []\n",
    "\n",
    "for item in python_obj['itemListElement']:\n",
    "    temp_dict = {}\n",
    "    temp_dict['name'] = item['name']\n",
    "    temp_dict['price'] = item['offers']['price']\n",
    "    temp_dict['url'] = item['url']\n",
    "    laptop_list.append(temp_dict)\n",
    "\n",
    "field_names = list(laptop_list[0].keys())\n",
    "# print(field_names[0])\n",
    "with open('darazscrap.csv', 'w', newline='') as csv_file:\n",
    "    csv_writer = csv.DictWriter(csv_file, fieldnames = field_names)\n",
    "    csv_writer.writeheader()\n",
    "    csv_writer.writerows(laptop_list)"
   ]
  }
 ],
 "metadata": {
  "kernelspec": {
   "display_name": "Python 3",
   "language": "python",
   "name": "python3"
  },
  "language_info": {
   "codemirror_mode": {
    "name": "ipython",
    "version": 3
   },
   "file_extension": ".py",
   "mimetype": "text/x-python",
   "name": "python",
   "nbconvert_exporter": "python",
   "pygments_lexer": "ipython3",
   "version": "3.7.3"
  }
 },
 "nbformat": 4,
 "nbformat_minor": 2
}
