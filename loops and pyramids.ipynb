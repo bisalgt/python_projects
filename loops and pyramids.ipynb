{
 "cells": [
  {
   "cell_type": "markdown",
   "metadata": {},
   "source": [
    "# Loops"
   ]
  },
  {
   "cell_type": "markdown",
   "metadata": {},
   "source": [
    "By default inside the print statement, end='\\n':- which prints each print statement in new line\n",
    "Instead of new line we just put end = ' ' so that each print statement after printing/outputting,\n",
    "prints to the same line which are separeted by whatever is value of end inside print statement."
   ]
  },
  {
   "cell_type": "markdown",
   "metadata": {},
   "source": [
    "## NO. 1"
   ]
  },
  {
   "cell_type": "code",
   "execution_count": 2,
   "metadata": {},
   "outputs": [
    {
     "name": "stdout",
     "output_type": "stream",
     "text": [
      "X \n",
      "X X \n",
      "X X X \n",
      "X X X X \n",
      "X X X X X \n",
      "X X X X X X \n",
      "X X X X X X X \n",
      "X X X X X X X X \n",
      "X X X X X X X X X \n"
     ]
    }
   ],
   "source": [
    "for i in range(1,10): # This loop is responsible to run the for loop and hit enter using the last print statement\n",
    "    for j in range(i): # This loop is responsible to print as much 'X' as the loop runs(IN A LINE)\n",
    "        print('X', end = ' ')\n",
    "    print('') #This is for enter/ To enter to the next line"
   ]
  },
  {
   "cell_type": "markdown",
   "metadata": {},
   "source": [
    "## NO. 2"
   ]
  },
  {
   "cell_type": "markdown",
   "metadata": {},
   "source": [
    "To get the mirror image of above half-pyramid,\n",
    "We have to understand and know what we are going to built.\n",
    "We have to know the output before hitting the code.\n",
    "In the below, \n",
    "(1). The number of spaces are decreasing and the \n",
    "    number of 'X' are increasing.\n",
    "(2) We have to print the spaces then 'X'."
   ]
  },
  {
   "cell_type": "code",
   "execution_count": 4,
   "metadata": {},
   "outputs": [
    {
     "name": "stdout",
     "output_type": "stream",
     "text": [
      "                X \n",
      "              X X \n",
      "            X X X \n",
      "          X X X X \n",
      "        X X X X X \n",
      "      X X X X X X \n",
      "    X X X X X X X \n",
      "  X X X X X X X X \n",
      "X X X X X X X X X \n"
     ]
    }
   ],
   "source": [
    "for i in range(1,10):\n",
    "    for j in range(9-i):\n",
    "        print(' ', end=' ')\n",
    "    for k in range(i):\n",
    "        print('X', end= ' ')\n",
    "    print()"
   ]
  },
  {
   "cell_type": "markdown",
   "metadata": {},
   "source": [
    "## NO.3"
   ]
  },
  {
   "cell_type": "markdown",
   "metadata": {},
   "source": [
    "After understanding what we have to print, we have practice as below"
   ]
  },
  {
   "cell_type": "code",
   "execution_count": 5,
   "metadata": {},
   "outputs": [
    {
     "name": "stdout",
     "output_type": "stream",
     "text": [
      "X X X X X X X X \n",
      "X X X X X X X \n",
      "X X X X X X \n",
      "X X X X X \n",
      "X X X X \n",
      "X X X \n",
      "X X \n",
      "X \n",
      "\n"
     ]
    }
   ],
   "source": [
    "for i in range(1,10):\n",
    "    for j in range(9-i):\n",
    "        print('X', end=' ')\n",
    "    print()"
   ]
  },
  {
   "cell_type": "markdown",
   "metadata": {},
   "source": [
    "## NO. 4"
   ]
  },
  {
   "cell_type": "code",
   "execution_count": 7,
   "metadata": {},
   "outputs": [
    {
     "name": "stdout",
     "output_type": "stream",
     "text": [
      "  X X X X X X X X \n",
      "    X X X X X X X \n",
      "      X X X X X X \n",
      "        X X X X X \n",
      "          X X X X \n",
      "            X X X \n",
      "              X X \n",
      "                X \n",
      "                  \n"
     ]
    }
   ],
   "source": [
    "for i in range(1, 10):\n",
    "    for j in range(i):\n",
    "        print(' ', end=' ')\n",
    "    for k in range(9-i):\n",
    "        print('X', end=' ')\n",
    "    print()"
   ]
  },
  {
   "cell_type": "markdown",
   "metadata": {},
   "source": [
    "## NO. 5"
   ]
  },
  {
   "cell_type": "markdown",
   "metadata": {},
   "source": [
    "I have just combined the NO-2 first then NO-1. (But still the pyramid is not looking great)"
   ]
  },
  {
   "cell_type": "code",
   "execution_count": 11,
   "metadata": {},
   "outputs": [
    {
     "name": "stdout",
     "output_type": "stream",
     "text": [
      "                X X \n",
      "              X X X X \n",
      "            X X X X X X \n",
      "          X X X X X X X X \n",
      "        X X X X X X X X X X \n",
      "      X X X X X X X X X X X X \n",
      "    X X X X X X X X X X X X X X \n",
      "  X X X X X X X X X X X X X X X X \n",
      "X X X X X X X X X X X X X X X X X X \n"
     ]
    }
   ],
   "source": [
    "for i in range(1, 10):\n",
    "    for j in range(9-i):\n",
    "        print(' ', end=' ')\n",
    "    for k in range(i):\n",
    "        print('X', end= ' ')\n",
    "    for m in range(i):\n",
    "        print('X', end= ' ')\n",
    "    print()"
   ]
  },
  {
   "cell_type": "markdown",
   "metadata": {},
   "source": [
    "## NO. 6"
   ]
  },
  {
   "cell_type": "markdown",
   "metadata": {},
   "source": [
    "I have combined NO. 2 then NO.1 and to make a perfect pyramid I have reduce a loop of end 'X'.\n",
    "In the below the last for loop at the begining has a value of 0, so doesnot runs at the first time so\n",
    "the output looks like pyramid."
   ]
  },
  {
   "cell_type": "code",
   "execution_count": 12,
   "metadata": {},
   "outputs": [
    {
     "name": "stdout",
     "output_type": "stream",
     "text": [
      "                X \n",
      "              X X X \n",
      "            X X X X X \n",
      "          X X X X X X X \n",
      "        X X X X X X X X X \n",
      "      X X X X X X X X X X X \n",
      "    X X X X X X X X X X X X X \n",
      "  X X X X X X X X X X X X X X X \n",
      "X X X X X X X X X X X X X X X X X \n"
     ]
    }
   ],
   "source": [
    ".for i in range(1, 10):\n",
    "    for j in range(9-i):\n",
    "        print(' ', end=' ')\n",
    "    for k in range(i):\n",
    "        print('X', end= ' ')\n",
    "    for m in range(i-1): # Loop is responsible to make a perfect pyramid, just compare NO.5 and NO. 6\n",
    "        print('X', end= ' ') \n",
    "    print()"
   ]
  },
  {
   "cell_type": "markdown",
   "metadata": {},
   "source": [
    "## NO. 7"
   ]
  },
  {
   "cell_type": "markdown",
   "metadata": {},
   "source": [
    "###### Same as NO.5, We have only altered the spaces and X"
   ]
  },
  {
   "cell_type": "code",
   "execution_count": 14,
   "metadata": {},
   "outputs": [
    {
     "name": "stdout",
     "output_type": "stream",
     "text": [
      "  X X X X X X X X X X X X X X X X \n",
      "    X X X X X X X X X X X X X X \n",
      "      X X X X X X X X X X X X \n",
      "        X X X X X X X X X X \n",
      "          X X X X X X X X \n",
      "            X X X X X X \n",
      "              X X X X \n",
      "                X X \n",
      "                  \n"
     ]
    }
   ],
   "source": [
    "for i in range(1, 10):\n",
    "    for j in range(i):\n",
    "        print(' ', end=' ')\n",
    "    for k in range(9-i):\n",
    "        print('X', end=' ')\n",
    "    for m in range(9-i):\n",
    "        print('X', end=' ')\n",
    "    print()"
   ]
  },
  {
   "cell_type": "markdown",
   "metadata": {},
   "source": [
    "## NO. 8"
   ]
  },
  {
   "cell_type": "markdown",
   "metadata": {},
   "source": [
    "Compare this with No. 6/ YOu will get the idea"
   ]
  },
  {
   "cell_type": "code",
   "execution_count": 16,
   "metadata": {},
   "outputs": [
    {
     "name": "stdout",
     "output_type": "stream",
     "text": [
      "  X X X X X X X X X X X X X X X \n",
      "    X X X X X X X X X X X X X \n",
      "      X X X X X X X X X X X \n",
      "        X X X X X X X X X \n",
      "          X X X X X X X \n",
      "            X X X X X \n",
      "              X X X \n",
      "                X \n",
      "                  \n"
     ]
    }
   ],
   "source": [
    "for i in range(1, 10):\n",
    "    for j in range(i):\n",
    "        print(' ', end=' ')\n",
    "    for k in range(9-i):\n",
    "        print('X', end=' ')\n",
    "    for m in range((9-i)-1): # subtracting 1 inside the loop, so that the loop run one less time\n",
    "        print('X', end=' ')\n",
    "    print()"
   ]
  },
  {
   "cell_type": "code",
   "execution_count": null,
   "metadata": {},
   "outputs": [],
   "source": []
  }
 ],
 "metadata": {
  "kernelspec": {
   "display_name": "Python 3",
   "language": "python",
   "name": "python3"
  },
  "language_info": {
   "codemirror_mode": {
    "name": "ipython",
    "version": 3
   },
   "file_extension": ".py",
   "mimetype": "text/x-python",
   "name": "python",
   "nbconvert_exporter": "python",
   "pygments_lexer": "ipython3",
   "version": "3.7.3"
  }
 },
 "nbformat": 4,
 "nbformat_minor": 2
}
