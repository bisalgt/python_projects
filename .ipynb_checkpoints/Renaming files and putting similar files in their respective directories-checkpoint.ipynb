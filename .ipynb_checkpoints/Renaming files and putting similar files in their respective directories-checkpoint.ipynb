{
 "cells": [
  {
   "cell_type": "markdown",
   "metadata": {},
   "source": [
    "# Sorting and adding files in their respective folders"
   ]
  },
  {
   "cell_type": "code",
   "execution_count": 1,
   "metadata": {},
   "outputs": [
    {
     "data": {
      "text/plain": [
       "'D:\\\\python_projects'"
      ]
     },
     "execution_count": 1,
     "metadata": {},
     "output_type": "execute_result"
    }
   ],
   "source": [
    "import os\n",
    "\n",
    "os.getcwd()"
   ]
  },
  {
   "cell_type": "code",
   "execution_count": 4,
   "metadata": {},
   "outputs": [],
   "source": [
    "# changing the directory to where the project is present\n",
    "os.chdir('E:\\\\files_sort')"
   ]
  },
  {
   "cell_type": "code",
   "execution_count": 6,
   "metadata": {},
   "outputs": [
    {
     "data": {
      "text/plain": [
       "'E:\\\\files_sort'"
      ]
     },
     "execution_count": 6,
     "metadata": {},
     "output_type": "execute_result"
    }
   ],
   "source": [
    "os.getcwd()"
   ]
  },
  {
   "cell_type": "code",
   "execution_count": 9,
   "metadata": {},
   "outputs": [
    {
     "name": "stdout",
     "output_type": "stream",
     "text": [
      "['01. Bloodletting.mp3', '02. Dimera.mp3', '03. Resurrection #9.mp3', '04. Goatfish.mp3', '05 001.jpg', '05. Salivation.mp3', '06. Lies Of Autumn.mp3', '07. Chronic Auditory Hallucination.mp3', '08. Suffering Bastard.mp3', '09. Buckeye.mp3', '10. Lame.mp3', '11. Preaching To The Converted.mp3', '12. Departure Hymn.mp3', '13. Duane.mp3', '14. Ruiner.mp3', '144540.jpg', '187785.jpg', '189247 (1).jpg', '189247.jpg', '189836.jpeg', '192497 (1).jpg', '192497.jpg', '193170.jpg', '193171.jpg', '193175 (1).jpg', '193175 (2).jpg', '193175.jpg', '193176 (1).jpg', '193176.jpg', '193178.jpg', '193181.jpg', '193182.jpg', '193980.jpg', '193981.jpg', '193982.jpg', '193983.jpg', '196130.jpg', '197843.jpg', '199310.jpg', '201899.png', '201905.jpg', '201906.jpg', '201907.jpg', '201908.jpg', '204126 (1).jpg', '204126.jpg', '208455.jpg', '219515.jpg', '221631.jpg', '221632.jpg', '242556.jpg', '252999.jpg', '258596.jpg', '261177.jpg', '268287.jpg', '268753.jpg', '2871665_20150724174420 (1).pdf', '2871665_20150724174420.pdf', '292453.jpg', '294976.jpg', '303301.jpg', '310793.jpg', '376677.jpg', '385616.jpg', '404314.jpg', '404481 (1).jpg', '404481.jpg', '404482.jpg', '415296.jpg', '436972.jpg', '444072.jpg', '468540.jpg', '469620.jpg', '475264.jpg', '475267.jpg', '475687.jpg', '489258.jpg', '489682.jpg', '504770.jpg', '508259.jpg', '509408.jpg', '512901.jpg', '513801.jpg', '522278.jpg', '522621.jpg', '522622.jpg', '522623.jpg', '526887.jpg', '526889.jpg', '539381.jpg', '541200.jpg', '541202.jpg', '545644.jpg', '545905.jpg', '545909.jpg', '545915.jpg', '545916.jpg', '545918.jpg', '545919.jpg', '546785 (1).jpg', '546785.jpg', '546902.jpg', '547502.jpg', '548717.jpg', '552042.png', '554421.jpg', '567735.png', '569415.jpg', '585200.jpg', '587597.jpg', '588921.jpg', '589622.png', '589968.png', '593280.jpg', '593473.jpg', '593476.png', '596610.jpg', '596848.jpg', '596883.jpg', '598183.jpg', '598185 (1).jpg', '598185.jpg', '598190.jpg', '599135.jpg', '599136 (1).jpg', '599136.jpg', '599138.png', '605799.jpg', '82733.jpg', 'Attachments_201581.zip', 'Bisection.docx', 'CV NEW.docx', 'guilty_crown_inori1.png', 'image.jpeg', 'IMG_0342.JPG', 'IMPORTANT.docx', 'Notification of refusal of application - Sujita.pdf', 'offer later.docx', 'pseudocodegaussianelimination.docx', 'reccommendation letter2.docx', 'Study Plan.docx', 'Studyplan final.docx', 'Studyplan final1.docx', 'Suramya.docx', 'SVP Application form Edited IW_final.pdf', 'SVP Application form.docx']\n"
     ]
    },
    {
     "data": {
      "text/plain": [
       "146"
      ]
     },
     "execution_count": 9,
     "metadata": {},
     "output_type": "execute_result"
    }
   ],
   "source": [
    "import os\n",
    "\n",
    "print(os.listdir()) # returns list of files present in current directory\n",
    "len(os.listdir()) # returns number of object in current directory"
   ]
  },
  {
   "cell_type": "markdown",
   "metadata": {},
   "source": [
    "## Renaming and adding all the files"
   ]
  },
  {
   "cell_type": "code",
   "execution_count": 12,
   "metadata": {},
   "outputs": [],
   "source": [
    "import os\n",
    "\n",
    "for i, file in enumerate(os.listdir(), 1):\n",
    "    ext = file.split('.')[-1] # takes the last element of the list made by splitting file names on '.'\n",
    "    os.renames(file, ext+'\\Renamed_file_'+ str(i) + '.' + ext)\n",
    "    "
   ]
  },
  {
   "cell_type": "code",
   "execution_count": 14,
   "metadata": {},
   "outputs": [
    {
     "data": {
      "text/plain": [
       "['docx', 'jpeg', 'jpg', 'mp3', 'pdf', 'png', 'zip']"
      ]
     },
     "execution_count": 14,
     "metadata": {},
     "output_type": "execute_result"
    }
   ],
   "source": [
    "os.listdir()"
   ]
  }
 ],
 "metadata": {
  "kernelspec": {
   "display_name": "Python 3",
   "language": "python",
   "name": "python3"
  },
  "language_info": {
   "codemirror_mode": {
    "name": "ipython",
    "version": 3
   },
   "file_extension": ".py",
   "mimetype": "text/x-python",
   "name": "python",
   "nbconvert_exporter": "python",
   "pygments_lexer": "ipython3",
   "version": "3.7.3"
  }
 },
 "nbformat": 4,
 "nbformat_minor": 2
}
